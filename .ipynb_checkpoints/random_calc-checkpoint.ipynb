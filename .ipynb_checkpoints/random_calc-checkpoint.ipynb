{
 "cells": [
  {
   "cell_type": "code",
   "execution_count": 1,
   "metadata": {},
   "outputs": [],
   "source": [
    "import numpy as np"
   ]
  },
  {
   "cell_type": "code",
   "execution_count": 11,
   "metadata": {},
   "outputs": [
    {
     "name": "stdout",
     "output_type": "stream",
     "text": [
      "[[   0.    10.    21.    31.    42.    52.    63.    73.    84.    94.\n",
      "   115.   126.   136.   147.   157.   168.   179.   189.   200.   210.\n",
      "   221.   241.   241.   252.   262.   273.   283.   294.   305.   315.\n",
      "   326.   357.   367.   378.   399.   420.   451.   462.   483.   493.\n",
      "   504.   546.   556.   567.   577.   588.   598.   609.   630.   640.\n",
      "   651.   661.   672.   682.   693.   703.   714.   724.   735.   745.\n",
      "   755. ]\n",
      " [2986.  2506.  2700.  2345.  2750.  2803.  3808.  1464.  3116.  2642.\n",
      "  3336.  3703.  3310.  3262.  2433.  3838.  2886.  3047.  1974.  2820.\n",
      "  2533.  3244.  2265.  2231.  2310.  2039.  1730.  2650.  1270.   605.5\n",
      "  1375.   771.7 2254.  1683.  1922.  1531.  1515.  2166.  2232.  1901.\n",
      "  2930.  2234.  2927.  2514.  3629.   806.1 3046.  2568.  2867.  3304.\n",
      "  3757.  2845.  2774.  2826.  2986.  3032.  3070.  2613.  3383.  1847.\n",
      "  2268. ]]\n"
     ]
    }
   ],
   "source": [
    "data = np.loadtxt('PlutoData61values.txt').T\n",
    "print(data)"
   ]
  },
  {
   "cell_type": "code",
   "execution_count": 36,
   "metadata": {},
   "outputs": [],
   "source": [
    "first_third = data[:, 0:20]\n",
    "second_third = data[:, 21:40]\n",
    "third_third = data[:, 41:]"
   ]
  },
  {
   "cell_type": "code",
   "execution_count": 37,
   "metadata": {},
   "outputs": [
    {
     "name": "stdout",
     "output_type": "stream",
     "text": [
      "[2234.  2927.  2514.  3629.   806.1 3046.  2568.  2867.  3304.  3757.\n",
      " 2845.  2774.  2826.  2986.  3032.  3070.  2613.  3383.  1847.  2268. ]\n"
     ]
    }
   ],
   "source": [
    "print(third_third[1])"
   ]
  },
  {
   "cell_type": "code",
   "execution_count": 38,
   "metadata": {},
   "outputs": [],
   "source": [
    "first_mean = np.mean(first_third[1])\n",
    "second_mean = np.mean(second_third[1])\n",
    "third_mean = np.mean(third_third[1])"
   ]
  },
  {
   "cell_type": "code",
   "execution_count": 48,
   "metadata": {},
   "outputs": [],
   "source": [
    "first_unc = np.std(first_third[1]) / np.sqrt(len(first_third[1]))\n",
    "second_unc = np.std(second_third[1]) / np.sqrt(len(second_third[1]))\n",
    "third_unc = np.std(third_third[1]) / np.sqrt(len(third_third[1]))"
   ]
  },
  {
   "cell_type": "code",
   "execution_count": 52,
   "metadata": {},
   "outputs": [
    {
     "name": "stdout",
     "output_type": "stream",
     "text": [
      "1007.7552631578947\n",
      "190.39421755902475\n"
     ]
    }
   ],
   "source": [
    "print(np.abs(second_mean - first_mean))\n",
    "print(np.sqrt(first_unc**2 + second_unc**2))"
   ]
  },
  {
   "cell_type": "code",
   "execution_count": 53,
   "metadata": {},
   "outputs": [
    {
     "name": "stdout",
     "output_type": "stream",
     "text": [
      "886.1102631578947\n",
      "199.49632660443464\n"
     ]
    }
   ],
   "source": [
    "print(np.abs(second_mean - third_mean))\n",
    "print(np.sqrt(third_unc**2 + second_unc**2))"
   ]
  },
  {
   "cell_type": "code",
   "execution_count": 54,
   "metadata": {},
   "outputs": [
    {
     "data": {
      "text/plain": [
       "5.292993012487247"
      ]
     },
     "execution_count": 54,
     "metadata": {},
     "output_type": "execute_result"
    }
   ],
   "source": [
    "np.abs(second_mean - first_mean) / np.sqrt(first_unc**2 + second_unc**2)"
   ]
  },
  {
   "cell_type": "code",
   "execution_count": 55,
   "metadata": {},
   "outputs": [
    {
     "data": {
      "text/plain": [
       "4.441737240179324"
      ]
     },
     "execution_count": 55,
     "metadata": {},
     "output_type": "execute_result"
    }
   ],
   "source": [
    "np.abs(second_mean - third_mean) / np.sqrt(third_unc**2 + second_unc**2)"
   ]
  },
  {
   "cell_type": "code",
   "execution_count": 56,
   "metadata": {},
   "outputs": [
    {
     "data": {
      "text/plain": [
       "0.6338556859944438"
      ]
     },
     "execution_count": 56,
     "metadata": {},
     "output_type": "execute_result"
    }
   ],
   "source": [
    "np.abs(third_mean - first_mean) / np.sqrt(first_unc**2 + third_unc**2)"
   ]
  },
  {
   "cell_type": "code",
   "execution_count": null,
   "metadata": {},
   "outputs": [],
   "source": []
  }
 ],
 "metadata": {
  "kernelspec": {
   "display_name": "Python 3",
   "language": "python",
   "name": "python3"
  },
  "language_info": {
   "codemirror_mode": {
    "name": "ipython",
    "version": 3
   },
   "file_extension": ".py",
   "mimetype": "text/x-python",
   "name": "python",
   "nbconvert_exporter": "python",
   "pygments_lexer": "ipython3",
   "version": "3.7.6"
  }
 },
 "nbformat": 4,
 "nbformat_minor": 4
}
